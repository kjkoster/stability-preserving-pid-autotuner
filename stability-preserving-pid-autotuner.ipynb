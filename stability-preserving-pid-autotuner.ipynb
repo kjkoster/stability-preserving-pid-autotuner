{
 "cells": [
  {
   "cell_type": "markdown",
   "id": "dbb7a0ef-1a40-4570-a814-0e28643f43ab",
   "metadata": {},
   "source": [
    "---\n",
    "## Step Response Tracking\n",
    "Next, we do the same, but change the setpoint after a few seconds."
   ]
  },
  {
   "cell_type": "code",
   "execution_count": null,
   "id": "c465745a-5a85-4f20-a35f-99c9128c21ee",
   "metadata": {},
   "outputs": [],
   "source": [
    "setpoints = np.zeros(EPISODE_LENGTH)\n",
    "setpoints[:] = 23.0 # °C\n",
    "setpoints[int(EPISODE_LENGTH/2):] = 40.0 # °C\n",
    "\n",
    "plant_control = PlantControl(IS_HARDWARE, SAMPLE_RATE)\n",
    "stepped_setpoint_results = plant_control.episode(setpoints, (50.0, 0.001, 0.1))\n",
    "\n",
    "stepped_setpoint_results.sample(10).sort_values(COL_TIME)\n"
   ]
  },
  {
   "cell_type": "code",
   "execution_count": null,
   "id": "a2f7a9bc-a0e9-4aaf-8afb-948f7c926eb5",
   "metadata": {},
   "outputs": [],
   "source": [
    "plot_episode(stepped_setpoint_results)\n"
   ]
  }
 ],
 "metadata": {
  "kernelspec": {
   "display_name": "Python 3 (ipykernel)",
   "language": "python",
   "name": "python3"
  },
  "language_info": {
   "codemirror_mode": {
    "name": "ipython",
    "version": 3
   },
   "file_extension": ".py",
   "mimetype": "text/x-python",
   "name": "python",
   "nbconvert_exporter": "python",
   "pygments_lexer": "ipython3",
   "version": "3.11.4"
  }
 },
 "nbformat": 4,
 "nbformat_minor": 5
}
