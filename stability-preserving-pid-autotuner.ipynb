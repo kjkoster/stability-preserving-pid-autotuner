{
 "cells": [
  {
   "cell_type": "markdown",
   "id": "b3bc4c93-a9bc-4b76-a311-a7da69e1fb90",
   "metadata": {},
   "source": [
    "\n",
    "The code below builds each of these components in code, with the final simulation running at the very bottom of the notebook.\n",
    "\n",
    "Let's start by defining the variable names for use with panda's. Using $\\LaTeX$ in the variable names works well for rendering tables and for MatPlotlib, but they break Pandas' built-in plotting due to the use of backslashes in the column names."
   ]
  },
  {
   "cell_type": "code",
   "execution_count": 3,
   "id": "51f3eb7e-49c9-4a0b-834f-a29c55899502",
   "metadata": {},
   "outputs": [],
   "source": []
  },
  {
   "cell_type": "markdown",
   "id": "aec24f61-7169-4101-ac32-332d11452208",
   "metadata": {},
   "source": [
    "---\n",
    "## Plant Control Class Definition\n",
    "Let's start with the lower grey box: controlling the plant.\n"
   ]
  },
  {
   "cell_type": "markdown",
   "id": "dbb7a0ef-1a40-4570-a814-0e28643f43ab",
   "metadata": {},
   "source": [
    "---\n",
    "## Step Response Tracking\n",
    "Next, we do the same, but change the setpoint after a few seconds."
   ]
  },
  {
   "cell_type": "code",
   "execution_count": null,
   "id": "c465745a-5a85-4f20-a35f-99c9128c21ee",
   "metadata": {},
   "outputs": [],
   "source": [
    "setpoints = np.zeros(EPISODE_LENGTH)\n",
    "setpoints[:] = 23.0 # °C\n",
    "setpoints[int(EPISODE_LENGTH/2):] = 40.0 # °C\n",
    "\n",
    "plant_control = PlantControl(IS_HARDWARE, SAMPLE_RATE)\n",
    "stepped_setpoint_results = plant_control.episode(setpoints, (50.0, 0.001, 0.1))\n",
    "\n",
    "stepped_setpoint_results.sample(10).sort_values(COL_TIME)\n"
   ]
  },
  {
   "cell_type": "code",
   "execution_count": null,
   "id": "a2f7a9bc-a0e9-4aaf-8afb-948f7c926eb5",
   "metadata": {},
   "outputs": [],
   "source": [
    "plot_episode(stepped_setpoint_results)\n"
   ]
  },
  {
   "cell_type": "markdown",
   "id": "d8c12a92-0bfe-4b99-80ac-c5accfcef132",
   "metadata": {},
   "source": [
    "---\n",
    "## Add Stability Preserving Supervisor\n",
    "The next step is to add the supervisor to the system. This supervisor acts as proposed in [Stability-preserving automatic tuning of PID control with reinforcement learning](https://comengsys.com/article/view/4601) and replaced the PID parameters with fallback ones if the system appears to be unstable.\n",
    "\n",
    "From reading the paper, it seems that the proposed algorithm uses the accumulated error as the inverse reward. Also, the proposed supervisor algorithm compares the _running_ squared error $RR(t)$ in an episode with the _total_ squared error $R_{bmk}$. We expected both to be either total or running, but one and the other. In the code below, we follow the same pattern: comparing a running error with a total-for-an-episode benchmark.\n",
    "\n",
    "In [Stability-preserving automatic tuning of PID control with reinforcement learning](https://comengsys.com/article/view/4601), they base this decision on the cumulative error for an episode, but that is useful only for episodes where the setpoint $r(t)$ does not change. Changing setpoints would punish the algorithm for something it has no control over. The article solves this by assuming the setpoint does not change.\n",
    "\n",
    "<center><img alt=\"state diagram\" src=\"state-diagram.png\" /></center>\n",
    "\n",
    "An alternative might have been to have the baseline controller run alongside the operational controller and have the supervisor switch between the two. The problem with that is that the supervisor cannot determine $y(t)$ for the stable controller, because it's $u(t)$ is not passed through the plant."
   ]
  },
  {
   "cell_type": "code",
   "execution_count": null,
   "id": "4acf1270-2b06-417d-b369-584a97f46759",
   "metadata": {},
   "outputs": [],
   "source": [
    "class SupervisedPlantControl:\n",
    "    def __init__(self, is_hardware, sample_rate, benchmark_error, lamba_error, known_good_pid_tunings):\n",
    "        TCLab = tclab.setup(connected=is_hardware)\n",
    "        self.plant = TCLab()\n",
    "\n",
    "        self.pid = PID()\n",
    "        self.pid.sample_time = 1.0 / sample_rate\n",
    "        self.sample_rate = sample_rate\n",
    "\n",
    "        self.lambda_benchmark_error = lamba_error * benchmark_error\n",
    "        self.known_good_pid_tunings = known_good_pid_tunings\n",
    "\n",
    "    def _step(self, t, r_t, y_t_prev, episode_state):\n",
    "        self.pid.setpoint = r_t\n",
    "        u_t_uncapped = self.pid(y_t_prev)\n",
    "\n",
    "        u_t = u_t_uncapped\n",
    "        if u_t < 0.0:\n",
    "            u_t = 0.0\n",
    "        if u_t > 100.0:\n",
    "            u_t = 100.0\n",
    "\n",
    "        self.plant.U1 = u_t\n",
    "        y_t  = self.plant.T1\n",
    "        y2_t = self.plant.T2\n",
    "\n",
    "        return [t, r_t,\n",
    "                self.pid.tunings[0], self.pid.tunings[1], self.pid.tunings[2],\n",
    "                self.pid._proportional, self.pid._integral, self.pid._derivative,\n",
    "                self.pid._last_error, u_t_uncapped, u_t, y_t,\n",
    "                0.0, y2_t,\n",
    "                episode_state], y_t\n",
    "\n",
    "    def episode(self, setpoints, pid_tunings):\n",
    "        results = pd.DataFrame(columns=EPISODE_COLUMNS)\n",
    "\n",
    "        episode_state = STATE_NORMAL\n",
    "        self.pid.tunings = pid_tunings\n",
    "        y_t_prev = self.plant.T1\n",
    "        for t in range(len(setpoints)):\n",
    "            time.sleep(1.0 / self.sample_rate)\n",
    "    \n",
    "            step_data, y_t_prev = self._step(t / self.sample_rate, setpoints[t], y_t_prev, episode_state)\n",
    "            results.loc[len(results)] = step_data\n",
    "\n",
    "            # in fallback state we just sit the episode out\n",
    "            if episode_state != STATE_FALLBACK and \\\n",
    "                    (results[COL_ERROR]**2).sum() > self.lambda_benchmark_error:\n",
    "                print(f\"at {t}: running error {(results[COL_ERROR]**2).sum():.1f} above lamda*benchmark error {self.lambda_benchmark_error:.1f}, switched to fallback parameters\")\n",
    "                episode_state = STATE_FALLBACK\n",
    "                results.loc[len(results)-1][COL_STATE] = STATE_FALLBACK\n",
    "                self.pid.tunings = self.known_good_pid_tunings\n",
    "                self.pid.reset()\n",
    "\n",
    "        return results\n"
   ]
  },
  {
   "cell_type": "code",
   "execution_count": null,
   "id": "2be59769-90a8-4ad9-81e2-c7923b98a77e",
   "metadata": {},
   "outputs": [],
   "source": [
    "setpoints = np.zeros(EPISODE_LENGTH)\n",
    "setpoints[:] = 23.0 # °C\n",
    "\n",
    "plant_control = SupervisedPlantControl(IS_HARDWARE, SAMPLE_RATE, 1200.0, 1.0, (20.0, 0.1, 0.01))\n",
    "supervised_smooth_results = plant_control.episode(setpoints, (50.0, 0.001, 0.1))\n",
    "\n",
    "supervised_smooth_results.sample(10).sort_values(COL_TIME)\n"
   ]
  },
  {
   "cell_type": "markdown",
   "id": "ec1e3f58-dbdd-4976-9e7f-ad5dba89d2f0",
   "metadata": {},
   "source": [
    "accumulated error"
   ]
  },
  {
   "cell_type": "code",
   "execution_count": null,
   "id": "c447c7c7-246f-4530-b2ac-75a08f995225",
   "metadata": {},
   "outputs": [],
   "source": [
    "(supervised_smooth_results[COL_ERROR]**2).sum()\n"
   ]
  },
  {
   "cell_type": "markdown",
   "id": "fc35b27d-391a-4abe-a0d3-ed0c07246b64",
   "metadata": {},
   "source": [
    "final state"
   ]
  },
  {
   "cell_type": "code",
   "execution_count": null,
   "id": "129c6e26-5020-4d6b-a619-539242e730e6",
   "metadata": {},
   "outputs": [],
   "source": [
    "supervised_smooth_results.loc[len(supervised_smooth_results)-1][COL_STATE]\n"
   ]
  },
  {
   "cell_type": "markdown",
   "id": "21fd545c-1545-42ba-a88a-2d359943e1ce",
   "metadata": {},
   "source": [
    "moment of switch to fallback"
   ]
  },
  {
   "cell_type": "code",
   "execution_count": null,
   "id": "b54b4745-8081-40c3-b373-7a4413cc0a29",
   "metadata": {},
   "outputs": [],
   "source": [
    "np.searchsorted(supervised_smooth_results[COL_STATE], STATE_FALLBACK)\n"
   ]
  },
  {
   "cell_type": "code",
   "execution_count": null,
   "id": "596fb395-8cef-40de-96b6-ce3106736d9e",
   "metadata": {},
   "outputs": [],
   "source": [
    "np.searchsorted(stepped_setpoint_results[COL_STATE], STATE_FALLBACK)\n"
   ]
  },
  {
   "cell_type": "code",
   "execution_count": null,
   "id": "623a2513-c296-4565-944a-5abff4be309f",
   "metadata": {},
   "outputs": [],
   "source": [
    "plot_episode(supervised_smooth_results)\n"
   ]
  },
  {
   "cell_type": "code",
   "execution_count": null,
   "id": "fb3545a6-7261-4d4b-9869-d3ee3bd4a323",
   "metadata": {},
   "outputs": [],
   "source": []
  },
  {
   "cell_type": "code",
   "execution_count": null,
   "id": "3d4f3b43-9364-4a4c-b0b6-d0d7e9e253ae",
   "metadata": {},
   "outputs": [],
   "source": []
  },
  {
   "cell_type": "markdown",
   "id": "1ea014a8-ce19-4c82-aeaa-a53a9fc0f12b",
   "metadata": {},
   "source": [
    "---\n",
    "## Reading List\n",
    "This section lists what sites and articles formed the basis of this notebook.\n",
    "\n",
    "### Literature\n",
    "The literature containts meaty explanations of the concepts used. Some were used to inspire, others we copied code from.\n",
    "\n",
    "* https://comengsys.com/article/view/4601 and https://www.youtube.com/watch?v=ymodIJ7yMKo inspired the whole project.\n",
    "* https://www.apmonitor.com/pdc/index.php/Main/FirstOrderSystems, https://www.apmonitor.com/pdc/index.php/Main/FirstOrderGraphical, and https://github.com/APMonitor/pdc/blob/master/fopdt_widget.ipynb helped build the plant simulation.\n",
    "\n",
    "### Reference Material\n",
    "Reference material is a list of sources for small snippets of code or that were used to solve problems we ran into as part of making this notebook.\n",
    "\n",
    "* https://pypi.org/project/simple-pid/\n",
    "* https://tclab.readthedocs.io/en/latest/README.html\n",
    "* https://numpy.org/doc/stable/reference/\n",
    "* https://stackoverflow.com/questions/14058340/adding-noise-to-a-signal-in-python\n",
    "* https://tex.stackexchange.com/questions/384873/what-is-the-degree-symbol\n",
    "* https://tex.stackexchange.com/questions/74353/what-commands-are-there-for-horizontal-spacing"
   ]
  },
  {
   "cell_type": "code",
   "execution_count": null,
   "id": "978c5479-aa3a-4d79-a994-36ff03274313",
   "metadata": {},
   "outputs": [],
   "source": []
  },
  {
   "cell_type": "code",
   "execution_count": null,
   "id": "41da6cec-771b-49f0-b42c-a6c2bbcec83e",
   "metadata": {},
   "outputs": [],
   "source": []
  },
  {
   "cell_type": "code",
   "execution_count": null,
   "id": "67ce70a7-7f7f-4165-aacb-cddafa0ce794",
   "metadata": {},
   "outputs": [],
   "source": []
  }
 ],
 "metadata": {
  "kernelspec": {
   "display_name": "Python 3 (ipykernel)",
   "language": "python",
   "name": "python3"
  },
  "language_info": {
   "codemirror_mode": {
    "name": "ipython",
    "version": 3
   },
   "file_extension": ".py",
   "mimetype": "text/x-python",
   "name": "python",
   "nbconvert_exporter": "python",
   "pygments_lexer": "ipython3",
   "version": "3.11.4"
  }
 },
 "nbformat": 4,
 "nbformat_minor": 5
}
